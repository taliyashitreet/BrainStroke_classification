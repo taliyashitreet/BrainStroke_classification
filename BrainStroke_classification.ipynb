{
 "cells": [
  {
   "cell_type": "code",
   "execution_count": 219,
   "metadata": {
    "collapsed": true,
    "pycharm": {
     "name": "#%%\n"
    }
   },
   "outputs": [],
   "source": [
    "import numpy as np\n",
    "import matplotlib.pyplot as plt\n",
    "import pandas as pd\n",
    "from sklearn.model_selection import train_test_split\n",
    "from sklearn.metrics import f1_score, recall_score, precision_score, accuracy_score, confusion_matrix, ConfusionMatrixDisplay\n",
    "import tensorflow.compat.v1 as tf\n",
    "tf.disable_v2_behavior()"
   ]
  },
  {
   "cell_type": "markdown",
   "source": [
    "### read data & information"
   ],
   "metadata": {
    "collapsed": false,
    "pycharm": {
     "name": "#%% md\n"
    }
   }
  },
  {
   "cell_type": "code",
   "execution_count": 166,
   "outputs": [
    {
     "data": {
      "text/plain": "   gender   age  hypertension  heart_disease ever_married      work_type  \\\n0    Male  67.0             0              1          Yes        Private   \n1    Male  80.0             0              1          Yes        Private   \n2  Female  49.0             0              0          Yes        Private   \n3  Female  79.0             1              0          Yes  Self-employed   \n4    Male  81.0             0              0          Yes        Private   \n\n  Residence_type  avg_glucose_level   bmi   smoking_status  stroke  \n0          Urban             228.69  36.6  formerly smoked       1  \n1          Rural             105.92  32.5     never smoked       1  \n2          Urban             171.23  34.4           smokes       1  \n3          Rural             174.12  24.0     never smoked       1  \n4          Urban             186.21  29.0  formerly smoked       1  ",
      "text/html": "<div>\n<style scoped>\n    .dataframe tbody tr th:only-of-type {\n        vertical-align: middle;\n    }\n\n    .dataframe tbody tr th {\n        vertical-align: top;\n    }\n\n    .dataframe thead th {\n        text-align: right;\n    }\n</style>\n<table border=\"1\" class=\"dataframe\">\n  <thead>\n    <tr style=\"text-align: right;\">\n      <th></th>\n      <th>gender</th>\n      <th>age</th>\n      <th>hypertension</th>\n      <th>heart_disease</th>\n      <th>ever_married</th>\n      <th>work_type</th>\n      <th>Residence_type</th>\n      <th>avg_glucose_level</th>\n      <th>bmi</th>\n      <th>smoking_status</th>\n      <th>stroke</th>\n    </tr>\n  </thead>\n  <tbody>\n    <tr>\n      <th>0</th>\n      <td>Male</td>\n      <td>67.0</td>\n      <td>0</td>\n      <td>1</td>\n      <td>Yes</td>\n      <td>Private</td>\n      <td>Urban</td>\n      <td>228.69</td>\n      <td>36.6</td>\n      <td>formerly smoked</td>\n      <td>1</td>\n    </tr>\n    <tr>\n      <th>1</th>\n      <td>Male</td>\n      <td>80.0</td>\n      <td>0</td>\n      <td>1</td>\n      <td>Yes</td>\n      <td>Private</td>\n      <td>Rural</td>\n      <td>105.92</td>\n      <td>32.5</td>\n      <td>never smoked</td>\n      <td>1</td>\n    </tr>\n    <tr>\n      <th>2</th>\n      <td>Female</td>\n      <td>49.0</td>\n      <td>0</td>\n      <td>0</td>\n      <td>Yes</td>\n      <td>Private</td>\n      <td>Urban</td>\n      <td>171.23</td>\n      <td>34.4</td>\n      <td>smokes</td>\n      <td>1</td>\n    </tr>\n    <tr>\n      <th>3</th>\n      <td>Female</td>\n      <td>79.0</td>\n      <td>1</td>\n      <td>0</td>\n      <td>Yes</td>\n      <td>Self-employed</td>\n      <td>Rural</td>\n      <td>174.12</td>\n      <td>24.0</td>\n      <td>never smoked</td>\n      <td>1</td>\n    </tr>\n    <tr>\n      <th>4</th>\n      <td>Male</td>\n      <td>81.0</td>\n      <td>0</td>\n      <td>0</td>\n      <td>Yes</td>\n      <td>Private</td>\n      <td>Urban</td>\n      <td>186.21</td>\n      <td>29.0</td>\n      <td>formerly smoked</td>\n      <td>1</td>\n    </tr>\n  </tbody>\n</table>\n</div>"
     },
     "execution_count": 166,
     "metadata": {},
     "output_type": "execute_result"
    }
   ],
   "source": [
    "df=pd.read_csv('/Users/taliyas/Downloads/brain_stroke.csv')\n",
    "df.head()"
   ],
   "metadata": {
    "collapsed": false,
    "pycharm": {
     "name": "#%%\n"
    }
   }
  },
  {
   "cell_type": "code",
   "execution_count": 94,
   "outputs": [
    {
     "data": {
      "text/plain": "(4981, 11)"
     },
     "execution_count": 94,
     "metadata": {},
     "output_type": "execute_result"
    }
   ],
   "source": [
    "df.shape"
   ],
   "metadata": {
    "collapsed": false,
    "pycharm": {
     "name": "#%%\n"
    }
   }
  },
  {
   "cell_type": "code",
   "execution_count": 95,
   "outputs": [
    {
     "name": "stdout",
     "output_type": "stream",
     "text": [
      "<class 'pandas.core.frame.DataFrame'>\n",
      "RangeIndex: 4981 entries, 0 to 4980\n",
      "Data columns (total 11 columns):\n",
      " #   Column             Non-Null Count  Dtype  \n",
      "---  ------             --------------  -----  \n",
      " 0   gender             4981 non-null   object \n",
      " 1   age                4981 non-null   float64\n",
      " 2   hypertension       4981 non-null   int64  \n",
      " 3   heart_disease      4981 non-null   int64  \n",
      " 4   ever_married       4981 non-null   object \n",
      " 5   work_type          4981 non-null   object \n",
      " 6   Residence_type     4981 non-null   object \n",
      " 7   avg_glucose_level  4981 non-null   float64\n",
      " 8   bmi                4981 non-null   float64\n",
      " 9   smoking_status     4981 non-null   object \n",
      " 10  stroke             4981 non-null   int64  \n",
      "dtypes: float64(3), int64(3), object(5)\n",
      "memory usage: 428.2+ KB\n"
     ]
    }
   ],
   "source": [
    "df.info()"
   ],
   "metadata": {
    "collapsed": false,
    "pycharm": {
     "name": "#%%\n"
    }
   }
  },
  {
   "cell_type": "code",
   "execution_count": 96,
   "outputs": [
    {
     "data": {
      "text/plain": "gender               0\nage                  0\nhypertension         0\nheart_disease        0\never_married         0\nwork_type            0\nResidence_type       0\navg_glucose_level    0\nbmi                  0\nsmoking_status       0\nstroke               0\ndtype: int64"
     },
     "execution_count": 96,
     "metadata": {},
     "output_type": "execute_result"
    }
   ],
   "source": [
    "# Check missing value\n",
    "df.isnull().sum()"
   ],
   "metadata": {
    "collapsed": false,
    "pycharm": {
     "name": "#%%\n"
    }
   }
  },
  {
   "cell_type": "markdown",
   "source": [
    "### clean data\n",
    "   * map columns to numeric\n",
    "   * add more rows of 1"
   ],
   "metadata": {
    "collapsed": false,
    "pycharm": {
     "name": "#%% md\n"
    }
   }
  },
  {
   "cell_type": "code",
   "execution_count": 167,
   "outputs": [
    {
     "data": {
      "text/plain": "   gender   age  hypertension  heart_disease  ever_married  work_type  \\\n0       0  67.0             0              1             1          0   \n1       0  80.0             0              1             1          0   \n2       1  49.0             0              0             1          0   \n3       1  79.0             1              0             1          1   \n4       0  81.0             0              0             1          0   \n\n   Residence_type  avg_glucose_level   bmi  smoking_status  stroke  \n0               1             228.69  36.6               0       1  \n1               0             105.92  32.5               1       1  \n2               1             171.23  34.4               2       1  \n3               0             174.12  24.0               1       1  \n4               1             186.21  29.0               0       1  ",
      "text/html": "<div>\n<style scoped>\n    .dataframe tbody tr th:only-of-type {\n        vertical-align: middle;\n    }\n\n    .dataframe tbody tr th {\n        vertical-align: top;\n    }\n\n    .dataframe thead th {\n        text-align: right;\n    }\n</style>\n<table border=\"1\" class=\"dataframe\">\n  <thead>\n    <tr style=\"text-align: right;\">\n      <th></th>\n      <th>gender</th>\n      <th>age</th>\n      <th>hypertension</th>\n      <th>heart_disease</th>\n      <th>ever_married</th>\n      <th>work_type</th>\n      <th>Residence_type</th>\n      <th>avg_glucose_level</th>\n      <th>bmi</th>\n      <th>smoking_status</th>\n      <th>stroke</th>\n    </tr>\n  </thead>\n  <tbody>\n    <tr>\n      <th>0</th>\n      <td>0</td>\n      <td>67.0</td>\n      <td>0</td>\n      <td>1</td>\n      <td>1</td>\n      <td>0</td>\n      <td>1</td>\n      <td>228.69</td>\n      <td>36.6</td>\n      <td>0</td>\n      <td>1</td>\n    </tr>\n    <tr>\n      <th>1</th>\n      <td>0</td>\n      <td>80.0</td>\n      <td>0</td>\n      <td>1</td>\n      <td>1</td>\n      <td>0</td>\n      <td>0</td>\n      <td>105.92</td>\n      <td>32.5</td>\n      <td>1</td>\n      <td>1</td>\n    </tr>\n    <tr>\n      <th>2</th>\n      <td>1</td>\n      <td>49.0</td>\n      <td>0</td>\n      <td>0</td>\n      <td>1</td>\n      <td>0</td>\n      <td>1</td>\n      <td>171.23</td>\n      <td>34.4</td>\n      <td>2</td>\n      <td>1</td>\n    </tr>\n    <tr>\n      <th>3</th>\n      <td>1</td>\n      <td>79.0</td>\n      <td>1</td>\n      <td>0</td>\n      <td>1</td>\n      <td>1</td>\n      <td>0</td>\n      <td>174.12</td>\n      <td>24.0</td>\n      <td>1</td>\n      <td>1</td>\n    </tr>\n    <tr>\n      <th>4</th>\n      <td>0</td>\n      <td>81.0</td>\n      <td>0</td>\n      <td>0</td>\n      <td>1</td>\n      <td>0</td>\n      <td>1</td>\n      <td>186.21</td>\n      <td>29.0</td>\n      <td>0</td>\n      <td>1</td>\n    </tr>\n  </tbody>\n</table>\n</div>"
     },
     "execution_count": 167,
     "metadata": {},
     "output_type": "execute_result"
    }
   ],
   "source": [
    "#Encoding\n",
    "df['gender'] = df['gender'].map({'Female':1,'Male':0})\n",
    "df['ever_married'] = df['ever_married'].map({'Yes': 1, 'No': 0})\n",
    "df['work_type'] = df['work_type'].map({'Private': 0, 'Self-employed': 1, 'Govt_job':2, 'children':3})\n",
    "df['Residence_type'] = df['Residence_type'].map({'Urban': 1, 'Rural':0})\n",
    "df['smoking_status'] = df['smoking_status'].map({'formerly smoked':0, 'never smoked':1, 'smokes':2, 'Unknown':3})\n",
    "df.head()"
   ],
   "metadata": {
    "collapsed": false,
    "pycharm": {
     "name": "#%%\n"
    }
   }
  },
  {
   "cell_type": "code",
   "execution_count": 168,
   "outputs": [
    {
     "name": "stdout",
     "output_type": "stream",
     "text": [
      "x shape:  (4981, 10) \n",
      "y shape:  (4981,)\n"
     ]
    }
   ],
   "source": [
    "x=df.iloc[:,:-1].values\n",
    "y=df.iloc[:,-1].values\n",
    "print('x shape: ',x.shape,'\\ny shape: ' , y.shape)"
   ],
   "metadata": {
    "collapsed": false,
    "pycharm": {
     "name": "#%%\n"
    }
   }
  },
  {
   "cell_type": "code",
   "execution_count": 169,
   "outputs": [
    {
     "data": {
      "text/plain": "Counter({1: 248, 0: 4733})"
     },
     "execution_count": 169,
     "metadata": {},
     "output_type": "execute_result"
    }
   ],
   "source": [
    "#count number of ones and zeros\n",
    "from collections import Counter\n",
    "Counter(y)"
   ],
   "metadata": {
    "collapsed": false,
    "pycharm": {
     "name": "#%%\n"
    }
   }
  },
  {
   "cell_type": "code",
   "execution_count": 170,
   "outputs": [
    {
     "data": {
      "text/plain": "Counter({1: 4733, 0: 4733})"
     },
     "execution_count": 170,
     "metadata": {},
     "output_type": "execute_result"
    }
   ],
   "source": [
    "from imblearn.over_sampling import SMOTE\n",
    "s=SMOTE()\n",
    "x_data,y_data=s.fit_resample(x,y)\n",
    "Counter(y_data)"
   ],
   "metadata": {
    "collapsed": false,
    "pycharm": {
     "name": "#%%\n"
    }
   }
  },
  {
   "cell_type": "markdown",
   "source": [
    "### normalization"
   ],
   "metadata": {
    "collapsed": false,
    "pycharm": {
     "name": "#%% md\n"
    }
   }
  },
  {
   "cell_type": "code",
   "execution_count": 172,
   "outputs": [
    {
     "data": {
      "text/plain": "array([[-1.24072674,  0.53168424, -0.51244219, ...,  2.01383901,\n         1.23916292, -1.41507791],\n       [-1.24072674,  1.11962943, -0.51244219, ..., -0.22201033,\n         0.54919062, -0.42655414],\n       [ 0.94853871, -0.28239372, -0.51244219, ...,  0.96739523,\n         0.86893388,  0.56196963],\n       ...,\n       [-0.91536524,  1.11290801, -0.51244219, ..., -0.27208631,\n        -1.01540292, -0.27964296],\n       [-1.24072674,  0.55200517,  2.44310359, ...,  2.7791066 ,\n         0.34988713,  0.51660579],\n       [ 0.94853871,  1.02917633, -0.51244219, ..., -1.064153  ,\n        -0.59005888, -0.01438194]])"
     },
     "execution_count": 172,
     "metadata": {},
     "output_type": "execute_result"
    }
   ],
   "source": [
    "from sklearn.preprocessing import StandardScaler\n",
    "scale=StandardScaler()\n",
    "x_data=scale.fit_transform(x_data)\n",
    "x_data"
   ],
   "metadata": {
    "collapsed": false,
    "pycharm": {
     "name": "#%%\n"
    }
   }
  },
  {
   "cell_type": "markdown",
   "source": [
    "### Train & Test & Validation Split"
   ],
   "metadata": {
    "collapsed": false,
    "pycharm": {
     "name": "#%% md\n"
    }
   }
  },
  {
   "cell_type": "code",
   "execution_count": 194,
   "outputs": [
    {
     "name": "stdout",
     "output_type": "stream",
     "text": [
      "X_train shape:  (5679, 10)\n",
      "X_val shape:  (1893, 10)\n",
      "y_test:  (1894, 1)\n"
     ]
    }
   ],
   "source": [
    "X_train, X_test, y_train, y_test  = train_test_split(x_data,y_data, test_size=0.2, random_state=1)\n",
    "\n",
    "X_train, X_val, y_train, y_val \\\n",
    "     = train_test_split(X_train, y_train, test_size=0.25, random_state=1) # 0.25 x 0.8 = 0.2\n",
    "y_train = y_train.reshape((y_train.shape[0],1))\n",
    "y_val = y_val.reshape((y_val.shape[0],1))\n",
    "y_test = y_test.reshape((y_test.shape[0],1))\n",
    "print(\"X_train shape: \",X_train.shape)\n",
    "print(\"X_val shape: \",X_val.shape)\n",
    "print(\"y_test: \",y_test.shape)"
   ],
   "metadata": {
    "collapsed": false,
    "pycharm": {
     "name": "#%%\n"
    }
   }
  },
  {
   "cell_type": "markdown",
   "source": [
    "### initilazie tesors for LOGISTIC REGRESSION"
   ],
   "metadata": {
    "collapsed": false,
    "pycharm": {
     "name": "#%% md\n"
    }
   }
  },
  {
   "cell_type": "code",
   "execution_count": 195,
   "outputs": [],
   "source": [
    "features = X_train.shape[1]\n",
    "eps = 1e-12\n",
    "x = tf.placeholder(tf.float32, [None, features])\n",
    "y_ = tf.placeholder(tf.float32, [None, 1])\n",
    "W = tf.Variable(tf.zeros([features,1]))\n",
    "b = tf.Variable(tf.zeros([1]))"
   ],
   "metadata": {
    "collapsed": false,
    "pycharm": {
     "name": "#%%\n"
    }
   }
  },
  {
   "cell_type": "code",
   "execution_count": 213,
   "outputs": [],
   "source": [
    "pred = tf.nn.sigmoid(tf.matmul(x,W) + b)\n",
    "loss1 = tf.nn.sigmoid_cross_entropy_with_logits(labels=y_, logits=pred)\n",
    "loss= tf.reduce_mean(loss1)\n",
    "update = tf.train.GradientDescentOptimizer(0.01).minimize(loss)"
   ],
   "metadata": {
    "collapsed": false,
    "pycharm": {
     "name": "#%%\n"
    }
   }
  },
  {
   "cell_type": "code",
   "execution_count": 214,
   "outputs": [],
   "source": [
    "def logistic_fun(z):\n",
    "    return 1/(1.0 + np.exp(-z))"
   ],
   "metadata": {
    "collapsed": false,
    "pycharm": {
     "name": "#%%\n"
    }
   }
  },
  {
   "cell_type": "code",
   "execution_count": 235,
   "outputs": [
    {
     "name": "stdout",
     "output_type": "stream",
     "text": [
      "epoch 0, cost = 232.928\n",
      "epoch 100, cost = 162.698\n",
      "epoch 200, cost = 161.69\n"
     ]
    }
   ],
   "source": [
    "epoches = 300\n",
    "batch_size = 300\n",
    "errors = []\n",
    "sess = tf.Session()\n",
    "sess.run(tf.global_variables_initializer())\n",
    "for i in range(epoches):\n",
    "    for start, end in zip(range(0, len(X_train), batch_size),range(batch_size, len(X_train), batch_size)):\n",
    "\t    sess.run(update, feed_dict = {x: X_train[start:end], y_: y_train[start:end]})\n",
    "    cost = sess.run(tf.nn.l2_loss(pred - y_val),feed_dict = {x:X_val})\n",
    "    errors.append(cost)\n",
    "\n",
    "    if i%100 == 0:\n",
    "      print(\"epoch %d, cost = %g\" % (i, cost))"
   ],
   "metadata": {
    "collapsed": false,
    "pycharm": {
     "name": "#%%\n"
    }
   }
  },
  {
   "cell_type": "code",
   "execution_count": 236,
   "outputs": [
    {
     "data": {
      "text/plain": "<Figure size 640x480 with 1 Axes>",
      "image/png": "[encoded data removed]"
     },
     "metadata": {},
     "output_type": "display_data"
    }
   ],
   "source": [
    "plt.plot(errors,label='LOGISTIC Function Approximation')\n",
    "plt.xlabel('epochs')\n",
    "plt.ylabel('cost')\n",
    "plt.legend()\n",
    "plt.show()"
   ],
   "metadata": {
    "collapsed": false,
    "pycharm": {
     "name": "#%%\n"
    }
   }
  },
  {
   "cell_type": "code",
   "execution_count": 222,
   "outputs": [],
   "source": [
    "# calc y_pred and classify label according to threshold\n",
    "def predict_logreg(X_data, Y_data):\n",
    "    Y_pred = []\n",
    "    answer = []\n",
    "    for j in range(Y_data.shape[0]):\n",
    "        p=logistic_fun(np.matmul(X_data[j], sess.run(W)) + sess.run(b))\n",
    "        answer.append(p)\n",
    "        if p > 0.5:\n",
    "            Y_pred.append(1)\n",
    "        else:\n",
    "            Y_pred.append(0)\n",
    "    return np.array(Y_pred), np.array(answer)"
   ],
   "metadata": {
    "collapsed": false,
    "pycharm": {
     "name": "#%%\n"
    }
   }
  },
  {
   "cell_type": "code",
   "execution_count": 237,
   "outputs": [
    {
     "name": "stdout",
     "output_type": "stream",
     "text": [
      "test accuracy: 0.7618796198521647 \n",
      "f1_score:  0.7484662576687116 \n",
      "recall:  0.7168803418803419 \n",
      "precision:  0.7829638273045507 \n",
      "confution matrix:  [[772 186]\n",
      " [265 671]]\n"
     ]
    },
    {
     "data": {
      "text/plain": "<Figure size 640x480 with 2 Axes>",
      "image/png": "[encoded data removed]"
     },
     "metadata": {},
     "output_type": "display_data"
    }
   ],
   "source": [
    "# test results\n",
    "pred_test, ans = predict_logreg(X_test, y_test)\n",
    "print(\"test accuracy:\",accuracy_score(y_test, pred_test),\n",
    "      \"\\nf1_score: \", f1_score(y_test, pred_test),\n",
    "      \"\\nrecall: \", recall_score(y_test, pred_test),\n",
    "      \"\\nprecision: \", precision_score(y_test, pred_test),\n",
    "    \"\\nconfution matrix: \", confusion_matrix(y_test,pred_test))\n",
    "\n",
    "cm = confusion_matrix(y_test, pred_test)\n",
    "cm_display = ConfusionMatrixDisplay(cm).plot()"
   ],
   "metadata": {
    "collapsed": false,
    "pycharm": {
     "name": "#%%\n"
    }
   }
  },
  {
   "cell_type": "markdown",
   "source": [
    "### initilazie tesors for MLP - one hidden layer"
   ],
   "metadata": {
    "collapsed": false,
    "pycharm": {
     "name": "#%% md\n"
    }
   }
  },
  {
   "cell_type": "code",
   "execution_count": 224,
   "outputs": [],
   "source": [
    "layer_1_neurons = 10\n",
    "X = tf.placeholder(tf.float32, [None, features], name = \"X\")\n",
    "Y = tf.placeholder(tf.float32, [None, 1], name = \"Y\")\n",
    "\n",
    "#first layer\n",
    "#Number of neurons = 10\n",
    "w_h = tf.Variable(\n",
    "   tf.random_uniform([features, layer_1_neurons],minval = -1, maxval = 1, dtype = tf.float32))\n",
    "b_h = tf.Variable(tf.zeros([1, layer_1_neurons], dtype = tf.float32))\n",
    "h = tf.nn.sigmoid(tf.matmul(X, w_h) + b_h)\n",
    "\n",
    "#output layer\n",
    "#Number of neurons = 10\n",
    "w_o = tf.Variable(\n",
    "   tf.random_uniform([layer_1_neurons, 1], minval = -1, maxval = 1, dtype = tf.float32))\n",
    "b_o = tf.Variable(tf.zeros([1, 1], dtype = tf.float32))\n",
    "\n",
    "#building the model\n",
    "model = tf.matmul(h, w_o) + b_o\n",
    "\n",
    "#minimize the cost function (model - Y)\n",
    "train_op = tf.train.AdamOptimizer().minimize(tf.nn.l2_loss(model - Y))\n"
   ],
   "metadata": {
    "collapsed": false,
    "pycharm": {
     "name": "#%%\n"
    }
   }
  },
  {
   "cell_type": "code",
   "execution_count": 225,
   "outputs": [
    {
     "name": "stdout",
     "output_type": "stream",
     "text": [
      "epoch 0, cost = 1506.77\n",
      "epoch 100, cost = 144.076\n",
      "epoch 200, cost = 134.121\n",
      "epoch 300, cost = 118.354\n",
      "epoch 400, cost = 107.278\n",
      "epoch 500, cost = 103.383\n",
      "epoch 600, cost = 101.99\n",
      "epoch 700, cost = 101.336\n"
     ]
    }
   ],
   "source": [
    "#Starting the Learning phase\n",
    "sess = tf.Session()\n",
    "sess.run(tf.initialize_all_variables())\n",
    "\n",
    "epoches = 800\n",
    "batch_size = 300\n",
    "errors = []\n",
    "for i in range(epoches):\n",
    "   for start, end in zip(range(0, len(X_train), batch_size),\\\n",
    "      range(batch_size, len(X_train), batch_size)):\n",
    "      sess.run(train_op, feed_dict = {X: X_train[start:end], Y: y_train[start:end]})\n",
    "   cost = sess.run(tf.nn.l2_loss(model - y_val),feed_dict = {X:X_val})\n",
    "   errors.append(cost)\n",
    "\n",
    "   if i%100 == 0:\n",
    "      print(\"epoch %d, cost = %g\" % (i, cost))"
   ],
   "metadata": {
    "collapsed": false,
    "pycharm": {
     "name": "#%%\n"
    }
   }
  },
  {
   "cell_type": "code",
   "execution_count": 226,
   "outputs": [
    {
     "data": {
      "text/plain": "<Figure size 640x480 with 1 Axes>",
      "image/png": "[encoded data removed]"
     },
     "metadata": {},
     "output_type": "display_data"
    }
   ],
   "source": [
    "plt.plot(errors,label='MLP Function Approximation')\n",
    "plt.xlabel('epochs')\n",
    "plt.ylabel('cost')\n",
    "plt.legend()\n",
    "plt.show()"
   ],
   "metadata": {
    "collapsed": false,
    "pycharm": {
     "name": "#%%\n"
    }
   }
  },
  {
   "cell_type": "code",
   "execution_count": 227,
   "outputs": [],
   "source": [
    "prediction=model.eval(session=sess, feed_dict={X:X_test})\n",
    "def predict_mlp(y_predict):\n",
    "    Y_pred = []\n",
    "    for j in range(y_predict.shape[0]):\n",
    "        if y_predict[j] > 0.5:\n",
    "            Y_pred.append(1)\n",
    "        else:\n",
    "            Y_pred.append(0)\n",
    "    return np.array(Y_pred)"
   ],
   "metadata": {
    "collapsed": false,
    "pycharm": {
     "name": "#%%\n"
    }
   }
  },
  {
   "cell_type": "code",
   "execution_count": 239,
   "outputs": [
    {
     "name": "stdout",
     "output_type": "stream",
     "text": [
      "test accuracy: 0.8606124604012672 \n",
      "f1_score:  0.8598726114649682 \n",
      "recall:  0.8653846153846154 \n",
      "precision:  0.8544303797468354 \n",
      "confusion matrix:  [[820 138]\n",
      " [126 810]]\n"
     ]
    },
    {
     "data": {
      "text/plain": "<Figure size 640x480 with 2 Axes>",
      "image/png": "[encoded data removed]"
     },
     "metadata": {},
     "output_type": "display_data"
    }
   ],
   "source": [
    "y_pred = predict_mlp(prediction)\n",
    "print(\"test accuracy:\",accuracy_score(y_test, y_pred),\n",
    "      \"\\nf1_score: \", f1_score(y_test, y_pred),\n",
    "      \"\\nrecall: \", recall_score(y_test, y_pred),\n",
    "      \"\\nprecision: \", precision_score(y_test, y_pred),\n",
    "    \"\\nconfusion matrix: \", confusion_matrix(y_test,y_pred))\n",
    "\n",
    "cm = confusion_matrix(y_test, y_pred)\n",
    "cm_display = ConfusionMatrixDisplay(cm).plot()"
   ],
   "metadata": {
    "collapsed": false,
    "pycharm": {
     "name": "#%%\n"
    }
   }
  },
  {
   "cell_type": "markdown",
   "source": [
    "### add hidden layer"
   ],
   "metadata": {
    "collapsed": false,
    "pycharm": {
     "name": "#%% md\n"
    }
   }
  },
  {
   "cell_type": "code",
   "execution_count": 229,
   "outputs": [],
   "source": [
    "layer_1_neurons = 10\n",
    "layer_2_neurons = 10\n",
    "layer_3_neurons = 10\n",
    "X = tf.placeholder(tf.float32, [None, features], name = \"X\")\n",
    "Y = tf.placeholder(tf.float32, [None, 1], name = \"Y\")\n",
    "\n",
    "#first layer\n",
    "#Number of neurons = 10\n",
    "w_h1 = tf.Variable(\n",
    "   tf.random_uniform([features, layer_1_neurons],minval = -1, maxval = 1, dtype = tf.float32))\n",
    "b_h1 = tf.Variable(tf.zeros([1, layer_1_neurons], dtype = tf.float32))\n",
    "h1 = tf.nn.sigmoid(tf.matmul(X, w_h1) + b_h1)\n",
    "\n",
    "#second layer\n",
    "#Number of neurons = 10\n",
    "w_h2 = tf.Variable(\n",
    "   tf.random_uniform([layer_1_neurons, layer_2_neurons],minval = -1, maxval = 1, dtype = tf.float32))\n",
    "b_h2 = tf.Variable(tf.zeros([1, layer_2_neurons], dtype = tf.float32))\n",
    "h2= tf.nn.sigmoid(tf.matmul(h1, w_h2) + b_h2)\n",
    "\n",
    "#third layer\n",
    "#Number of neurons = 5\n",
    "w_h3 = tf.Variable(\n",
    "   tf.random_uniform([layer_2_neurons, layer_3_neurons],minval = -1, maxval = 1, dtype = tf.float32))\n",
    "b_h3 = tf.Variable(tf.zeros([1, layer_3_neurons], dtype = tf.float32))\n",
    "h3= tf.nn.sigmoid(tf.matmul(h2, w_h3) + b_h3)\n",
    "\n",
    "#output layer\n",
    "#Number of neurons = 10\n",
    "w_o = tf.Variable(\n",
    "   tf.random_uniform([layer_3_neurons, 1], minval = -1, maxval = 1, dtype = tf.float32))\n",
    "b_o = tf.Variable(tf.zeros([1, 1], dtype = tf.float32))\n",
    "\n",
    "#building the model\n",
    "model = tf.matmul(h3, w_o) + b_o\n",
    "\n",
    "#minimize the cost function (model - Y)\n",
    "train_op = tf.train.AdamOptimizer().minimize(tf.nn.l2_loss(model - Y))\n"
   ],
   "metadata": {
    "collapsed": false,
    "pycharm": {
     "name": "#%%\n"
    }
   }
  },
  {
   "cell_type": "code",
   "execution_count": 230,
   "outputs": [
    {
     "name": "stdout",
     "output_type": "stream",
     "text": [
      "epoch 0, cost = 2751.95\n",
      "epoch 100, cost = 143.35\n",
      "epoch 200, cost = 134.441\n",
      "epoch 300, cost = 122.551\n",
      "epoch 400, cost = 116.963\n",
      "epoch 500, cost = 112.994\n",
      "epoch 600, cost = 107.081\n",
      "epoch 700, cost = 100.93\n"
     ]
    }
   ],
   "source": [
    "#Starting the Learning phase\n",
    "sess = tf.Session()\n",
    "sess.run(tf.initialize_all_variables())\n",
    "\n",
    "epoches = 800\n",
    "batch_size = 300\n",
    "errors = []\n",
    "for i in range(epoches):\n",
    "   for start, end in zip(range(0, len(X_train), batch_size),\\\n",
    "      range(batch_size, len(X_train), batch_size)):\n",
    "      sess.run(train_op, feed_dict = {X: X_train[start:end], Y: y_train[start:end]})\n",
    "   cost = sess.run(tf.nn.l2_loss(model - y_val),feed_dict = {X:X_val})\n",
    "   errors.append(cost)\n",
    "\n",
    "   if i%100 == 0:\n",
    "      print(\"epoch %d, cost = %g\" % (i, cost))"
   ],
   "metadata": {
    "collapsed": false,
    "pycharm": {
     "name": "#%%\n"
    }
   }
  },
  {
   "cell_type": "code",
   "execution_count": 232,
   "outputs": [
    {
     "data": {
      "text/plain": "<Figure size 640x480 with 1 Axes>",
      "image/png": "[encoded data removed]"
     },
     "metadata": {},
     "output_type": "display_data"
    }
   ],
   "source": [
    "plt.plot(errors,label='MLP - 3 hidden layers - Function Approximation')\n",
    "plt.xlabel('epochs')\n",
    "plt.ylabel('cost')\n",
    "plt.legend()\n",
    "plt.show()"
   ],
   "metadata": {
    "collapsed": false,
    "pycharm": {
     "name": "#%%\n"
    }
   }
  },
  {
   "cell_type": "code",
   "execution_count": 238,
   "outputs": [
    {
     "name": "stdout",
     "output_type": "stream",
     "text": [
      "test accuracy: 0.8606124604012672 \n",
      "f1_score:  0.8598726114649682 \n",
      "recall:  0.8653846153846154 \n",
      "precision:  0.8544303797468354 \n",
      "confusion matrix:  [[820 138]\n",
      " [126 810]]\n"
     ]
    },
    {
     "data": {
      "text/plain": "<Figure size 640x480 with 2 Axes>",
      "image/png": "[encoded data removed]"
     },
     "metadata": {},
     "output_type": "display_data"
    }
   ],
   "source": [
    "y_pred = predict_mlp(prediction)\n",
    "print(\"test accuracy:\",accuracy_score(y_test, y_pred),\n",
    "      \"\\nf1_score: \", f1_score(y_test, y_pred),\n",
    "      \"\\nrecall: \", recall_score(y_test, y_pred),\n",
    "      \"\\nprecision: \", precision_score(y_test, y_pred),\n",
    "    \"\\nconfusion matrix: \", confusion_matrix(y_test,y_pred))\n",
    "\n",
    "cm = confusion_matrix(y_test, y_pred)\n",
    "cm_display = ConfusionMatrixDisplay(cm).plot()"
   ],
   "metadata": {
    "collapsed": false,
    "pycharm": {
     "name": "#%%\n"
    }
   }
  },
  {
   "cell_type": "code",
   "execution_count": 234,
   "outputs": [
    {
     "data": {
      "text/plain": "(9466, 10)"
     },
     "execution_count": 234,
     "metadata": {},
     "output_type": "execute_result"
    }
   ],
   "source": [
    "x_data.shape"
   ],
   "metadata": {
    "collapsed": false,
    "pycharm": {
     "name": "#%%\n"
    }
   }
  },
  {
   "cell_type": "code",
   "execution_count": null,
   "outputs": [],
   "source": [],
   "metadata": {
    "collapsed": false,
    "pycharm": {
     "name": "#%%\n"
    }
   }
  }
 ],
 "metadata": {
  "kernelspec": {
   "display_name": "Python 3",
   "language": "python",
   "name": "python3"
  },
  "language_info": {
   "codemirror_mode": {
    "name": "ipython",
    "version": 2
   },
   "file_extension": ".py",
   "mimetype": "text/x-python",
   "name": "python",
   "nbconvert_exporter": "python",
   "pygments_lexer": "ipython2",
   "version": "2.7.6"
  }
 },
 "nbformat": 4,
 "nbformat_minor": 0
}