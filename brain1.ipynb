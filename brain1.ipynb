{
 "cells": [
  {
   "cell_type": "code",
   "execution_count": 168,
   "metadata": {
    "collapsed": true
   },
   "outputs": [],
   "source": [
    "import numpy as np\n",
    "import pandas as pd\n",
    "from sklearn.metrics import accuracy_score\n",
    "from sklearn.metrics import f1_score\n",
    "from sklearn.metrics import recall_score\n",
    "from sklearn.metrics import precision_score\n",
    "import tensorflow.compat.v1 as tf\n",
    "tf.disable_v2_behavior()\n"
   ]
  },
  {
   "cell_type": "code",
   "execution_count": 169,
   "outputs": [
    {
     "data": {
      "text/plain": "False"
     },
     "execution_count": 169,
     "metadata": {},
     "output_type": "execute_result"
    }
   ],
   "source": [
    "tf.disable_eager_execution()\n",
    "tf.executing_eagerly()"
   ],
   "metadata": {
    "collapsed": false,
    "pycharm": {
     "name": "#%%\n"
    }
   }
  },
  {
   "cell_type": "code",
   "execution_count": 170,
   "outputs": [
    {
     "data": {
      "text/plain": "   gender   age  hypertension  heart_disease ever_married      work_type  \\\n0    Male  67.0             0              1          Yes        Private   \n1    Male  80.0             0              1          Yes        Private   \n2  Female  49.0             0              0          Yes        Private   \n3  Female  79.0             1              0          Yes  Self-employed   \n4    Male  81.0             0              0          Yes        Private   \n\n  Residence_type  avg_glucose_level   bmi   smoking_status  stroke  \n0          Urban             228.69  36.6  formerly smoked       1  \n1          Rural             105.92  32.5     never smoked       1  \n2          Urban             171.23  34.4           smokes       1  \n3          Rural             174.12  24.0     never smoked       1  \n4          Urban             186.21  29.0  formerly smoked       1  ",
      "text/html": "<div>\n<style scoped>\n    .dataframe tbody tr th:only-of-type {\n        vertical-align: middle;\n    }\n\n    .dataframe tbody tr th {\n        vertical-align: top;\n    }\n\n    .dataframe thead th {\n        text-align: right;\n    }\n</style>\n<table border=\"1\" class=\"dataframe\">\n  <thead>\n    <tr style=\"text-align: right;\">\n      <th></th>\n      <th>gender</th>\n      <th>age</th>\n      <th>hypertension</th>\n      <th>heart_disease</th>\n      <th>ever_married</th>\n      <th>work_type</th>\n      <th>Residence_type</th>\n      <th>avg_glucose_level</th>\n      <th>bmi</th>\n      <th>smoking_status</th>\n      <th>stroke</th>\n    </tr>\n  </thead>\n  <tbody>\n    <tr>\n      <th>0</th>\n      <td>Male</td>\n      <td>67.0</td>\n      <td>0</td>\n      <td>1</td>\n      <td>Yes</td>\n      <td>Private</td>\n      <td>Urban</td>\n      <td>228.69</td>\n      <td>36.6</td>\n      <td>formerly smoked</td>\n      <td>1</td>\n    </tr>\n    <tr>\n      <th>1</th>\n      <td>Male</td>\n      <td>80.0</td>\n      <td>0</td>\n      <td>1</td>\n      <td>Yes</td>\n      <td>Private</td>\n      <td>Rural</td>\n      <td>105.92</td>\n      <td>32.5</td>\n      <td>never smoked</td>\n      <td>1</td>\n    </tr>\n    <tr>\n      <th>2</th>\n      <td>Female</td>\n      <td>49.0</td>\n      <td>0</td>\n      <td>0</td>\n      <td>Yes</td>\n      <td>Private</td>\n      <td>Urban</td>\n      <td>171.23</td>\n      <td>34.4</td>\n      <td>smokes</td>\n      <td>1</td>\n    </tr>\n    <tr>\n      <th>3</th>\n      <td>Female</td>\n      <td>79.0</td>\n      <td>1</td>\n      <td>0</td>\n      <td>Yes</td>\n      <td>Self-employed</td>\n      <td>Rural</td>\n      <td>174.12</td>\n      <td>24.0</td>\n      <td>never smoked</td>\n      <td>1</td>\n    </tr>\n    <tr>\n      <th>4</th>\n      <td>Male</td>\n      <td>81.0</td>\n      <td>0</td>\n      <td>0</td>\n      <td>Yes</td>\n      <td>Private</td>\n      <td>Urban</td>\n      <td>186.21</td>\n      <td>29.0</td>\n      <td>formerly smoked</td>\n      <td>1</td>\n    </tr>\n  </tbody>\n</table>\n</div>"
     },
     "execution_count": 170,
     "metadata": {},
     "output_type": "execute_result"
    }
   ],
   "source": [
    "df=pd.read_csv(r'C:\\Users\\PC\\Dropbox\\renana rimon\\semester 5\\deep learning\\StrokeProject\\brain_stroke.csv')\n",
    "df.head()\n"
   ],
   "metadata": {
    "collapsed": false,
    "pycharm": {
     "name": "#%%\n"
    }
   }
  },
  {
   "cell_type": "code",
   "execution_count": 171,
   "outputs": [
    {
     "data": {
      "text/plain": "   gender   age  hypertension  heart_disease  ever_married  work_type  \\\n0       0  67.0             0              1             1          0   \n1       0  80.0             0              1             1          0   \n2       1  49.0             0              0             1          0   \n3       1  79.0             1              0             1          1   \n4       0  81.0             0              0             1          0   \n\n   Residence_type  avg_glucose_level   bmi  smoking_status  stroke  \n0               1             228.69  36.6               0       1  \n1               0             105.92  32.5               1       1  \n2               1             171.23  34.4               2       1  \n3               0             174.12  24.0               1       1  \n4               1             186.21  29.0               0       1  ",
      "text/html": "<div>\n<style scoped>\n    .dataframe tbody tr th:only-of-type {\n        vertical-align: middle;\n    }\n\n    .dataframe tbody tr th {\n        vertical-align: top;\n    }\n\n    .dataframe thead th {\n        text-align: right;\n    }\n</style>\n<table border=\"1\" class=\"dataframe\">\n  <thead>\n    <tr style=\"text-align: right;\">\n      <th></th>\n      <th>gender</th>\n      <th>age</th>\n      <th>hypertension</th>\n      <th>heart_disease</th>\n      <th>ever_married</th>\n      <th>work_type</th>\n      <th>Residence_type</th>\n      <th>avg_glucose_level</th>\n      <th>bmi</th>\n      <th>smoking_status</th>\n      <th>stroke</th>\n    </tr>\n  </thead>\n  <tbody>\n    <tr>\n      <th>0</th>\n      <td>0</td>\n      <td>67.0</td>\n      <td>0</td>\n      <td>1</td>\n      <td>1</td>\n      <td>0</td>\n      <td>1</td>\n      <td>228.69</td>\n      <td>36.6</td>\n      <td>0</td>\n      <td>1</td>\n    </tr>\n    <tr>\n      <th>1</th>\n      <td>0</td>\n      <td>80.0</td>\n      <td>0</td>\n      <td>1</td>\n      <td>1</td>\n      <td>0</td>\n      <td>0</td>\n      <td>105.92</td>\n      <td>32.5</td>\n      <td>1</td>\n      <td>1</td>\n    </tr>\n    <tr>\n      <th>2</th>\n      <td>1</td>\n      <td>49.0</td>\n      <td>0</td>\n      <td>0</td>\n      <td>1</td>\n      <td>0</td>\n      <td>1</td>\n      <td>171.23</td>\n      <td>34.4</td>\n      <td>2</td>\n      <td>1</td>\n    </tr>\n    <tr>\n      <th>3</th>\n      <td>1</td>\n      <td>79.0</td>\n      <td>1</td>\n      <td>0</td>\n      <td>1</td>\n      <td>1</td>\n      <td>0</td>\n      <td>174.12</td>\n      <td>24.0</td>\n      <td>1</td>\n      <td>1</td>\n    </tr>\n    <tr>\n      <th>4</th>\n      <td>0</td>\n      <td>81.0</td>\n      <td>0</td>\n      <td>0</td>\n      <td>1</td>\n      <td>0</td>\n      <td>1</td>\n      <td>186.21</td>\n      <td>29.0</td>\n      <td>0</td>\n      <td>1</td>\n    </tr>\n  </tbody>\n</table>\n</div>"
     },
     "execution_count": 171,
     "metadata": {},
     "output_type": "execute_result"
    }
   ],
   "source": [
    "df['gender'] = df['gender'].map({'Female':1,'Male':0})\n",
    "df['ever_married'] = df['ever_married'].map({'Yes': 1, 'No': 0})\n",
    "df['work_type'] = df['work_type'].map({'Private': 0, 'Self-employed': 1, 'Govt_job':2, 'children':3})\n",
    "df['Residence_type'] = df['Residence_type'].map({'Urban': 1, 'Rural':0})\n",
    "df['smoking_status'] = df['smoking_status'].map({'formerly smoked':0, 'never smoked':1, 'smokes':2, 'Unknown':3})\n",
    "df.head()"
   ],
   "metadata": {
    "collapsed": false,
    "pycharm": {
     "name": "#%%\n"
    }
   }
  },
  {
   "cell_type": "code",
   "execution_count": 172,
   "outputs": [],
   "source": [
    "tf.random.set_random_seed(22)\n",
    "\n",
    "df = df.sample(frac = 1)"
   ],
   "metadata": {
    "collapsed": false,
    "pycharm": {
     "name": "#%%\n"
    }
   }
  },
  {
   "cell_type": "code",
   "execution_count": 173,
   "outputs": [
    {
     "name": "stdout",
     "output_type": "stream",
     "text": [
      "data shape:\n",
      "train:  (3736, 11) \n",
      "test:  (1245, 11)\n",
      "x_train:  (3736, 10) \n",
      "y_train:  (3736, 1)\n",
      "x_test:  (1245, 10) \n",
      "y_test:  (1245, 1)\n"
     ]
    }
   ],
   "source": [
    "print(\"data shape:\")\n",
    "train_dataset = df.sample(frac=0.75, random_state=1)\n",
    "test_dataset = df.drop(train_dataset.index)\n",
    "print(\"train: \",train_dataset.shape, \"\\ntest: \", test_dataset.shape)\n",
    "x_train, y_train = train_dataset.iloc[:,:-1], train_dataset.iloc[:,-1:]\n",
    "x_test, y_test = test_dataset.iloc[:,:-1], test_dataset.iloc[:,-1:]\n",
    "print(\"x_train: \",x_train.shape, \"\\ny_train: \", y_train.shape)\n",
    "print(\"x_test: \",x_test.shape, \"\\ny_test: \", y_test.shape)"
   ],
   "metadata": {
    "collapsed": false,
    "pycharm": {
     "name": "#%%\n"
    }
   }
  },
  {
   "cell_type": "code",
   "execution_count": 180,
   "outputs": [],
   "source": [],
   "metadata": {
    "collapsed": false,
    "pycharm": {
     "name": "#%%\n"
    }
   }
  },
  {
   "cell_type": "code",
   "execution_count": 181,
   "outputs": [],
   "source": [
    "# def Norm(x_data):\n",
    "#     mean = np.mean(x_data, axis=0)\n",
    "#     std = np.std(x_data, axis=0)\n",
    "#     return (x_data - mean)/std"
   ],
   "metadata": {
    "collapsed": false,
    "pycharm": {
     "name": "#%%\n"
    }
   }
  },
  {
   "cell_type": "code",
   "execution_count": 182,
   "outputs": [],
   "source": [
    "# x_train = Norm(x_train)\n",
    "# x_test = Norm(x_test)"
   ],
   "metadata": {
    "collapsed": false,
    "pycharm": {
     "name": "#%%\n"
    }
   }
  },
  {
   "cell_type": "code",
   "execution_count": 183,
   "outputs": [],
   "source": [
    "# x_train.head()"
   ],
   "metadata": {
    "collapsed": false,
    "pycharm": {
     "name": "#%%\n"
    }
   }
  },
  {
   "cell_type": "code",
   "execution_count": 184,
   "outputs": [],
   "source": [
    "features = x_train.shape[1]\n",
    "eps = 1e-12\n",
    "x = tf.placeholder(tf.float32, [None, features])\n",
    "y_ = tf.placeholder(tf.float32, [None, 1])\n",
    "W = tf.Variable(tf.zeros([features,1]))\n",
    "b = tf.Variable(tf.zeros([1]))"
   ],
   "metadata": {
    "collapsed": false,
    "pycharm": {
     "name": "#%%\n"
    }
   }
  },
  {
   "cell_type": "code",
   "execution_count": 185,
   "outputs": [],
   "source": [
    "pred = tf.nn.sigmoid(tf.matmul(x,W) + b)\n",
    "loss1 = tf.nn.sigmoid_cross_entropy_with_logits(labels=y_, logits=pred)\n",
    "loss= tf.reduce_mean(loss1)"
   ],
   "metadata": {
    "collapsed": false,
    "pycharm": {
     "name": "#%%\n"
    }
   }
  },
  {
   "cell_type": "code",
   "execution_count": 186,
   "outputs": [],
   "source": [
    "update = tf.train.GradientDescentOptimizer(0.000001).minimize(loss)"
   ],
   "metadata": {
    "collapsed": false,
    "pycharm": {
     "name": "#%%\n"
    }
   }
  },
  {
   "cell_type": "code",
   "execution_count": 187,
   "outputs": [],
   "source": [
    "def logistic_fun(z):\n",
    "    return 1/(1.0 + np.exp(-z))"
   ],
   "metadata": {
    "collapsed": false,
    "pycharm": {
     "name": "#%%\n"
    }
   }
  },
  {
   "cell_type": "code",
   "execution_count": 188,
   "outputs": [],
   "source": [
    "sess = tf.Session()\n",
    "sess.run(tf.global_variables_initializer())\n",
    "for i in range(0,10000):\n",
    "\tsess.run(update, feed_dict = {x:x_train, y_:y_train})"
   ],
   "metadata": {
    "collapsed": false,
    "pycharm": {
     "name": "#%%\n"
    }
   }
  },
  {
   "cell_type": "code",
   "execution_count": 189,
   "outputs": [],
   "source": [
    "# pred_test = np.empty_like(y_test)\n",
    "# for i in range(x_test.shape[0]):\n",
    "#     if logistic_fun(np.matmul(x_test.iloc[i],sess.run(W)) + sess.run(b)) > 0.5:\n",
    "#         pred_test[i] = 1\n",
    "#     else:\n",
    "#         pred_test[i] = 0"
   ],
   "metadata": {
    "collapsed": false,
    "pycharm": {
     "name": "#%% accuracy\n"
    }
   }
  },
  {
   "cell_type": "code",
   "execution_count": 190,
   "outputs": [],
   "source": [
    "from sklearn.metrics import accuracy_score"
   ],
   "metadata": {
    "collapsed": false,
    "pycharm": {
     "name": "#%%\n"
    }
   }
  },
  {
   "cell_type": "code",
   "execution_count": 191,
   "outputs": [],
   "source": [
    "# accuracy_score(y_test, pred_test)"
   ],
   "metadata": {
    "collapsed": false,
    "pycharm": {
     "name": "#%%\n"
    }
   }
  },
  {
   "cell_type": "code",
   "execution_count": 192,
   "outputs": [],
   "source": [
    "# pred_train = np.empty_like(y_train)\n",
    "# for i in range(x_train.shape[0]):\n",
    "#     p = logistic_fun(np.matmul(x_train.iloc[i],sess.run(W)) + sess.run(b))\n",
    "#     # print(p)\n",
    "#     if p > 0.5:\n",
    "#         pred_train[i] = 1\n",
    "#     else:\n",
    "#         pred_train[i] = 0"
   ],
   "metadata": {
    "collapsed": false,
    "pycharm": {
     "name": "#%%\n"
    }
   }
  },
  {
   "cell_type": "code",
   "execution_count": 193,
   "outputs": [],
   "source": [
    "# accuracy_score(y_train, pred_train)"
   ],
   "metadata": {
    "collapsed": false,
    "pycharm": {
     "name": "#%%\n"
    }
   }
  },
  {
   "cell_type": "code",
   "execution_count": null,
   "outputs": [],
   "source": [],
   "metadata": {
    "collapsed": false,
    "pycharm": {
     "name": "#%%\n"
    }
   }
  },
  {
   "cell_type": "code",
   "execution_count": 194,
   "outputs": [],
   "source": [
    "def predict(x_data, y_data):\n",
    "    y_pred = []\n",
    "    answer = []\n",
    "    for j in range(y_data.shape[0]):\n",
    "        p=logistic_fun(np.matmul(x_data.iloc[j],sess.run(W)) + sess.run(b))\n",
    "        answer.append(p)\n",
    "        if p > 0.07:\n",
    "            y_pred.append(1)\n",
    "        else:\n",
    "            y_pred.append(0)\n",
    "    return np.array(y_pred), np.array(answer)"
   ],
   "metadata": {
    "collapsed": false,
    "pycharm": {
     "name": "#%%\n"
    }
   }
  },
  {
   "cell_type": "code",
   "execution_count": 195,
   "outputs": [
    {
     "name": "stdout",
     "output_type": "stream",
     "text": [
      "train accuracy: 0.8987951807228916 \n",
      "f1_score:  0.015625 \n",
      "recall:  0.014285714285714285 \n",
      "precision:  0.017241379310344827\n"
     ]
    }
   ],
   "source": [
    "pred_test, ans = predict(x_test, y_test)\n",
    "print(\"train accuracy:\",accuracy_score(y_test, pred_test),\n",
    "      \"\\nf1_score: \", f1_score(y_test, pred_test),\n",
    "      \"\\nrecall: \", recall_score(y_test, pred_test),\n",
    "      \"\\nprecision: \", precision_score(y_test, pred_test))"
   ],
   "metadata": {
    "collapsed": false,
    "pycharm": {
     "name": "#%%\n"
    }
   }
  },
  {
   "cell_type": "code",
   "execution_count": 196,
   "outputs": [
    {
     "data": {
      "text/plain": "array([[0.01708656],\n       [0.00671319],\n       [0.00141614],\n       ...,\n       [0.03455209],\n       [0.03251601],\n       [0.02538818]])"
     },
     "execution_count": 196,
     "metadata": {},
     "output_type": "execute_result"
    }
   ],
   "source": [
    "ans"
   ],
   "metadata": {
    "collapsed": false,
    "pycharm": {
     "name": "#%%\n"
    }
   }
  },
  {
   "cell_type": "code",
   "execution_count": 197,
   "outputs": [
    {
     "data": {
      "text/plain": "7.673296116472097e-05"
     },
     "execution_count": 197,
     "metadata": {},
     "output_type": "execute_result"
    }
   ],
   "source": [
    "ans.min()"
   ],
   "metadata": {
    "collapsed": false,
    "pycharm": {
     "name": "#%%\n"
    }
   }
  },
  {
   "cell_type": "code",
   "execution_count": 198,
   "outputs": [
    {
     "data": {
      "text/plain": "0.11718953196947617"
     },
     "execution_count": 198,
     "metadata": {},
     "output_type": "execute_result"
    }
   ],
   "source": [
    "ans.max()"
   ],
   "metadata": {
    "collapsed": false,
    "pycharm": {
     "name": "#%%\n"
    }
   }
  },
  {
   "cell_type": "code",
   "execution_count": 199,
   "outputs": [
    {
     "data": {
      "text/plain": "58"
     },
     "execution_count": 199,
     "metadata": {},
     "output_type": "execute_result"
    }
   ],
   "source": [
    "pred_test.sum()"
   ],
   "metadata": {
    "collapsed": false,
    "pycharm": {
     "name": "#%%\n"
    }
   }
  },
  {
   "cell_type": "code",
   "execution_count": 200,
   "outputs": [
    {
     "data": {
      "text/plain": "stroke    70\ndtype: int64"
     },
     "execution_count": 200,
     "metadata": {},
     "output_type": "execute_result"
    }
   ],
   "source": [
    "y_test.sum()"
   ],
   "metadata": {
    "collapsed": false,
    "pycharm": {
     "name": "#%%\n"
    }
   }
  },
  {
   "cell_type": "code",
   "execution_count": 201,
   "outputs": [
    {
     "data": {
      "text/plain": "      stroke\n4004       0\n374        0\n2165       0\n3240       0\n1006       0\n...      ...\n3923       0\n3094       0\n3432       0\n2670       0\n1198       0\n\n[3736 rows x 1 columns]",
      "text/html": "<div>\n<style scoped>\n    .dataframe tbody tr th:only-of-type {\n        vertical-align: middle;\n    }\n\n    .dataframe tbody tr th {\n        vertical-align: top;\n    }\n\n    .dataframe thead th {\n        text-align: right;\n    }\n</style>\n<table border=\"1\" class=\"dataframe\">\n  <thead>\n    <tr style=\"text-align: right;\">\n      <th></th>\n      <th>stroke</th>\n    </tr>\n  </thead>\n  <tbody>\n    <tr>\n      <th>4004</th>\n      <td>0</td>\n    </tr>\n    <tr>\n      <th>374</th>\n      <td>0</td>\n    </tr>\n    <tr>\n      <th>2165</th>\n      <td>0</td>\n    </tr>\n    <tr>\n      <th>3240</th>\n      <td>0</td>\n    </tr>\n    <tr>\n      <th>1006</th>\n      <td>0</td>\n    </tr>\n    <tr>\n      <th>...</th>\n      <td>...</td>\n    </tr>\n    <tr>\n      <th>3923</th>\n      <td>0</td>\n    </tr>\n    <tr>\n      <th>3094</th>\n      <td>0</td>\n    </tr>\n    <tr>\n      <th>3432</th>\n      <td>0</td>\n    </tr>\n    <tr>\n      <th>2670</th>\n      <td>0</td>\n    </tr>\n    <tr>\n      <th>1198</th>\n      <td>0</td>\n    </tr>\n  </tbody>\n</table>\n<p>3736 rows × 1 columns</p>\n</div>"
     },
     "execution_count": 201,
     "metadata": {},
     "output_type": "execute_result"
    }
   ],
   "source": [
    "y_train"
   ],
   "metadata": {
    "collapsed": false,
    "pycharm": {
     "name": "#%%\n"
    }
   }
  },
  {
   "cell_type": "code",
   "execution_count": 202,
   "outputs": [
    {
     "data": {
      "text/plain": "stroke    178\ndtype: int64"
     },
     "execution_count": 202,
     "metadata": {},
     "output_type": "execute_result"
    }
   ],
   "source": [
    "y_train.sum()"
   ],
   "metadata": {
    "collapsed": false,
    "pycharm": {
     "name": "#%%\n"
    }
   }
  },
  {
   "cell_type": "code",
   "execution_count": 204,
   "outputs": [
    {
     "data": {
      "text/plain": "stroke    70\ndtype: int64"
     },
     "execution_count": 204,
     "metadata": {},
     "output_type": "execute_result"
    }
   ],
   "source": [
    "y_test.sum()"
   ],
   "metadata": {
    "collapsed": false,
    "pycharm": {
     "name": "#%%\n"
    }
   }
  },
  {
   "cell_type": "code",
   "execution_count": null,
   "outputs": [],
   "source": [],
   "metadata": {
    "collapsed": false,
    "pycharm": {
     "name": "#%%\n"
    }
   }
  }
 ],
 "metadata": {
  "kernelspec": {
   "display_name": "Python 3",
   "language": "python",
   "name": "python3"
  },
  "language_info": {
   "codemirror_mode": {
    "name": "ipython",
    "version": 2
   },
   "file_extension": ".py",
   "mimetype": "text/x-python",
   "name": "python",
   "nbconvert_exporter": "python",
   "pygments_lexer": "ipython2",
   "version": "2.7.6"
  }
 },
 "nbformat": 4,
 "nbformat_minor": 0
}